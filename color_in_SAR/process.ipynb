{
 "cells": [
  {
   "cell_type": "code",
   "execution_count": 97,
   "metadata": {
    "collapsed": true,
    "ExecuteTime": {
     "end_time": "2023-07-13T05:40:07.575028Z",
     "start_time": "2023-07-13T05:40:07.556800Z"
    }
   },
   "outputs": [],
   "source": [
    "import mols2grid\n",
    "#import gdown\n",
    "import os\n",
    "import numpy as np\n",
    "#os.chdir('/Users/kate_fieseler/PycharmProjects/postera/CAR_recipe')\n",
    "from rdkit import Chem\n",
    "from rdkit.Chem import AllChem, Draw, Descriptors\n",
    "from IPython.display import display, Image\n",
    "import time\n",
    "import random\n",
    "import pandas as pd\n",
    "import csv\n",
    "import sqlite3\n",
    "import pickle\n",
    "from sqlitedict import SqliteDict\n",
    "import seaborn as sns\n",
    "import csv\n",
    "import ast\n",
    "import sys\n",
    "import arthorian_quest\n",
    "from arthorian_quest import create"
   ]
  },
  {
   "cell_type": "code",
   "execution_count": 87,
   "outputs": [],
   "source": [
    "import sys\n",
    "#sys.path.append(\"/Users/kate_fieseler/PycharmProjects/chemUtils\")\n",
    "import chemUtils\n",
    "from chemUtils.substructure import splitExtendedMolBySubstruct"
   ],
   "metadata": {
    "collapsed": false,
    "ExecuteTime": {
     "end_time": "2023-07-12T15:12:37.679321Z",
     "start_time": "2023-07-12T15:12:37.239203Z"
    }
   }
  },
  {
   "cell_type": "markdown",
   "source": [
    "# STEP 1: Get all compounds ordered for D68"
   ],
   "metadata": {
    "collapsed": false
   }
  },
  {
   "cell_type": "code",
   "execution_count": 89,
   "outputs": [
    {
     "ename": "AssertionError",
     "evalue": "Error, only one attachment point expected in grownMol",
     "output_type": "error",
     "traceback": [
      "\u001B[0;31m---------------------------------------------------------------------------\u001B[0m",
      "\u001B[0;31mAssertionError\u001B[0m                            Traceback (most recent call last)",
      "Cell \u001B[0;32mIn[89], line 1\u001B[0m\n\u001B[0;32m----> 1\u001B[0m \u001B[43msplitExtendedMolBySubstruct\u001B[49m\u001B[43m(\u001B[49m\u001B[43mChem\u001B[49m\u001B[38;5;241;43m.\u001B[39;49m\u001B[43mMolFromSmiles\u001B[49m\u001B[43m(\u001B[49m\u001B[38;5;124;43m'\u001B[39;49m\u001B[38;5;124;43mC[C@@H]1CCC(=CC(=O)NCCN2CCCCC2)C1\u001B[39;49m\u001B[38;5;124;43m'\u001B[39;49m\u001B[43m)\u001B[49m\u001B[43m,\u001B[49m\u001B[43m \u001B[49m\u001B[43mChem\u001B[49m\u001B[38;5;241;43m.\u001B[39;49m\u001B[43mMolFromSmiles\u001B[49m\u001B[43m(\u001B[49m\u001B[38;5;124;43m'\u001B[39;49m\u001B[38;5;124;43mC[C@@H]1CCC(=CC(=O)NCCN2CCCCC2)C1\u001B[39;49m\u001B[38;5;124;43m'\u001B[39;49m\u001B[43m)\u001B[49m\u001B[43m)\u001B[49m\n\u001B[1;32m      2\u001B[0m df \u001B[38;5;241m=\u001B[39m pd\u001B[38;5;241m.\u001B[39mread_csv(\u001B[38;5;124m\"\u001B[39m\u001B[38;5;124m/Users/kate_fieseler/Library/CloudStorage/OneDrive-Nexus365/Meetings/asap/EV-D68_Design_Suggestions_(Responses)_ordered.csv\u001B[39m\u001B[38;5;124m\"\u001B[39m)\n\u001B[1;32m      3\u001B[0m df\n",
      "File \u001B[0;32m~/PycharmProjects/chemUtils/chemUtils/substructure/substructure.py:25\u001B[0m, in \u001B[0;36msplitExtendedMolBySubstruct\u001B[0;34m(extendedMol, oriMol)\u001B[0m\n\u001B[1;32m     22\u001B[0m Chem\u001B[38;5;241m.\u001B[39mSanitizeMol(oriMol)\n\u001B[1;32m     23\u001B[0m Chem\u001B[38;5;241m.\u001B[39mSanitizeMol(grownMol)\n\u001B[0;32m---> 25\u001B[0m \u001B[38;5;28;01massert\u001B[39;00m grownMol_withDummy\u001B[38;5;241m.\u001B[39mGetNumAtoms() \u001B[38;5;241m==\u001B[39m grownMol\u001B[38;5;241m.\u001B[39mGetNumAtoms() \u001B[38;5;241m+\u001B[39m \u001B[38;5;241m1\u001B[39m, \u001B[38;5;124m\"\u001B[39m\u001B[38;5;124mError, only one attachment point expected in grownMol\u001B[39m\u001B[38;5;124m\"\u001B[39m\n\u001B[1;32m     26\u001B[0m \u001B[38;5;28;01massert\u001B[39;00m oriMol_withDummy\u001B[38;5;241m.\u001B[39mGetNumAtoms() \u001B[38;5;241m==\u001B[39m oriMol\u001B[38;5;241m.\u001B[39mGetNumAtoms() \u001B[38;5;241m+\u001B[39m \u001B[38;5;241m1\u001B[39m, \u001B[38;5;124m\"\u001B[39m\u001B[38;5;124mError, only one attachment point expected in oriMol\u001B[39m\u001B[38;5;124m\"\u001B[39m\n\u001B[1;32m     28\u001B[0m grown_dummyIdxs, grown_attachmentIdxs \u001B[38;5;241m=\u001B[39m find_attachmentIdxs_fromDummy(grownMol_withDummy)\n",
      "\u001B[0;31mAssertionError\u001B[0m: Error, only one attachment point expected in grownMol"
     ]
    }
   ],
   "source": [
    "df = pd.read_csv(\"/Users/kate_fieseler/Library/CloudStorage/OneDrive-Nexus365/Meetings/asap/EV-D68_Design_Suggestions_(Responses)_ordered.csv\")\n",
    "df"
   ],
   "metadata": {
    "collapsed": false,
    "ExecuteTime": {
     "end_time": "2023-07-12T15:12:59.344694Z",
     "start_time": "2023-07-12T15:12:59.317288Z"
    }
   }
  },
  {
   "cell_type": "markdown",
   "source": [
    "# STEP 2 (example): Run 1 of fragnet merge compounds through Manifold\n",
    "Which compound? This one: C[C@@H]1CCC(=CC(=O)NCCN2CCCCC2)C1 first one on Fragalysis list"
   ],
   "metadata": {
    "collapsed": false
   }
  },
  {
   "cell_type": "code",
   "execution_count": 3,
   "outputs": [
    {
     "data": {
      "text/plain": "<rdkit.Chem.rdchem.Mol at 0x28ef44f90>",
      "image/png": "[encoded data removed]"
     },
     "execution_count": 3,
     "metadata": {},
     "output_type": "execute_result"
    }
   ],
   "source": [
    "smiles = 'C[C@@H]1CCC(=CC(=O)NCCN2CCCCC2)C1'\n",
    "m = Chem.MolFromSmiles(smiles)\n",
    "m"
   ],
   "metadata": {
    "collapsed": false,
    "ExecuteTime": {
     "end_time": "2023-07-12T09:46:49.673841Z",
     "start_time": "2023-07-12T09:46:49.618384Z"
    }
   }
  },
  {
   "cell_type": "code",
   "execution_count": 6,
   "outputs": [
    {
     "data": {
      "text/plain": "<rdkit.Chem.rdchem.Mol at 0x28ef74430>",
      "image/png": "[encoded data removed]"
     },
     "execution_count": 6,
     "metadata": {},
     "output_type": "execute_result"
    }
   ],
   "source": [
    "# Find this compound in df\n",
    "smiles1 = 'CC1CCC(=CC(=O)NCCN2CCCCC2)C1'\n",
    "m1 = Chem.MolFromSmiles(smiles1)\n",
    "m1"
   ],
   "metadata": {
    "collapsed": false,
    "ExecuteTime": {
     "end_time": "2023-07-12T09:48:24.993257Z",
     "start_time": "2023-07-12T09:48:24.990224Z"
    }
   }
  },
  {
   "cell_type": "code",
   "execution_count": 11,
   "outputs": [],
   "source": [
    "# Turn into single csv\n",
    "df1 = df[df['SMILES'] == smiles1]\n",
    "df1.to_csv('fragnet_1_compound.csv', index=False)"
   ],
   "metadata": {
    "collapsed": false,
    "ExecuteTime": {
     "end_time": "2023-07-12T09:54:25.899782Z",
     "start_time": "2023-07-12T09:54:25.898362Z"
    }
   }
  },
  {
   "cell_type": "code",
   "execution_count": 13,
   "outputs": [
    {
     "name": "stdout",
     "output_type": "stream",
     "text": [
      "  0%|                                                     | 0/1 [00:00<?, ?it/s]tmpdir: <TemporaryDirectory '/var/folders/sg/gb03t0zx5sz8vw2lxlghz1gr0000gn/T/tmp94gy6d18'>\r\n",
      "cache_working_name: /var/folders/sg/gb03t0zx5sz8vw2lxlghz1gr0000gn/T/tmp94gy6d18/cache_postera_retrosynthesisscaffold_restrict_diamond-mcule_ultimate-enamine_real-wuxi_bb_screening-sigma-generic-molport-emolecules-mcule-wuxi_galaxi-enamine_bb-enamine_made.sqlite\r\n",
      "Number of entries in cache: 0\r\n",
      "100%|████████████████████████████████████████████| 1/1 [00:00<00:00, 115.54it/s]\r\n",
      "lauching query 0 (https://api.postera.ai/api/v1/retrosynthesis/)...\r\n",
      "{'smiles': 'CC1CCC(=CC(=O)NCCN2CCCCC2)C1', 'maxSearchDepth': 4, 'catalogs': ['mcule_ultimate', 'enamine_real', 'wuxi_bb_screening', 'sigma', 'generic', 'molport', 'emolecules', 'mcule', 'wuxi_galaxi', 'enamine_bb', 'enamine_made'], 'reactionTag': 'diamond_robotic_synthesis'}\r\n",
      "{'routes': [{'molecules': [{'smiles': 'CC1CCC(=CC(=O)NCCN2CCCCC2)C1', 'isBuildingBlock': True, 'catalogEntries': [{'catalogName': 'enamine_real', 'catalogId': 'Z1375821513', 'smiles': 'CC1CCC(=CC(=O)NCCN2CCCCC2)C1', 'purchaseInfo': {'isBuildingBlock': False, 'isScreening': True, 'scrLeadTimeWeeks': 4.0, 'scrPriceRange': '$100-250 / mg'}}]}], 'reactions': []}, {'molecules': [{'smiles': 'CC1CCC(=CC(=O)NCCN2CCCCC2)C1', 'isBuildingBlock': False, 'catalogEntries': []}, {'smiles': 'NCCN1CCCCC1', 'isBuildingBlock': True, 'catalogEntries': [{'catalogName': 'molport', 'catalogId': 'MolPort-001-757-194', 'smiles': 'NCCN1CCCCC1', 'purchaseInfo': {'isBuildingBlock': True, 'isScreening': False, 'bbLeadTimeWeeks': 1.0, 'bbPriceRange': '< $100 / g'}}, {'catalogName': 'enamine_bb', 'catalogId': 'EN300-21749', 'smiles': 'NCCN1CCCCC1', 'purchaseInfo': {'isBuildingBlock': True, 'isScreening': False, 'bbLeadTimeWeeks': 1.0, 'bbPriceRange': '< $100 / g'}}, {'catalogName': 'enamine_real', 'catalogId': 'PV-004397987228', 'smiles': 'NCCN1CCCCC1', 'purchaseInfo': {'isBuildingBlock': False, 'isScreening': True, 'scrLeadTimeWeeks': 4.0, 'scrPriceRange': '$100-250 / mg'}}, {'catalogName': 'generic', 'catalogId': '', 'smiles': 'NCCN1CCCCC1', 'purchaseInfo': {'isBuildingBlock': True, 'isScreening': False, 'bbLeadTimeWeeks': 2.0, 'bbPriceRange': '< $100 / g'}}, {'catalogName': 'emolecules', 'catalogId': '36253574', 'smiles': 'NCCN1CCCCC1', 'purchaseInfo': {'isBuildingBlock': True, 'isScreening': False, 'bbLeadTimeWeeks': 1.0, 'bbPriceRange': '< $100 / g'}}, {'catalogName': 'sigma', 'catalogId': '27943937', 'smiles': 'NCCN1CCCCC1', 'purchaseInfo': {'isBuildingBlock': True, 'isScreening': False, 'bbLeadTimeWeeks': 1.0, 'bbPriceRange': '< $100 / g'}}, {'catalogName': 'mcule', 'catalogId': 'MCULE-8551893283', 'smiles': 'NCCN1CCCCC1', 'purchaseInfo': {'isBuildingBlock': True, 'isScreening': False, 'bbLeadTimeWeeks': 3.0, 'bbPriceRange': '$100-500 / g'}}]}, {'smiles': 'CC1CCC(=CC(=O)O)C1', 'isBuildingBlock': True, 'catalogEntries': [{'catalogName': 'enamine_made', 'catalogId': 'BBV-38482583', 'smiles': 'CC1CCC(=CC(=O)O)C1', 'purchaseInfo': {'isBuildingBlock': True, 'isScreening': False, 'bbLeadTimeWeeks': 6.0, 'bbPriceRange': '$1k-10k / g'}}, {'catalogName': 'emolecules', 'catalogId': '40338440', 'smiles': 'CC1CCC(=CC(=O)O)C1', 'purchaseInfo': {'isBuildingBlock': True, 'isScreening': False, 'bbLeadTimeWeeks': 12.0, 'bbPriceRange': '$500-1k / g'}}, {'catalogName': 'mcule', 'catalogId': 'MCULE-7259653087', 'smiles': 'CC1CCC(=CC(=O)O)C1', 'purchaseInfo': {'isBuildingBlock': False, 'isScreening': True, 'scrLeadTimeWeeks': 4.0, 'scrPriceRange': '< $100 / mg'}}, {'catalogName': 'enamine_bb', 'catalogId': 'EN300-104030', 'smiles': 'CC1CCC(=CC(=O)O)C1', 'purchaseInfo': {'isBuildingBlock': True, 'isScreening': False, 'bbLeadTimeWeeks': 1.0, 'bbPriceRange': '< $100 / g'}}]}], 'reactions': [{'name': 'Amidation', 'reactantSmiles': ['NCCN1CCCCC1', 'CC1CCC(=CC(=O)O)C1'], 'productSmiles': 'CC1CCC(=CC(=O)NCCN2CCCCC2)C1'}]}, {'molecules': [{'smiles': 'CC1CCC(=CC(=O)NCCN2CCCCC2)C1', 'isBuildingBlock': False, 'catalogEntries': []}, {'smiles': 'CC1CCC(=CC(=O)NCC=O)C1', 'isBuildingBlock': False, 'catalogEntries': []}, {'smiles': 'NCC=O', 'isBuildingBlock': True, 'catalogEntries': [{'catalogName': 'enamine_made', 'catalogId': 'BBV-38394298', 'smiles': 'NCC=O', 'purchaseInfo': {'isBuildingBlock': True, 'isScreening': False, 'bbLeadTimeWeeks': 6.0, 'bbPriceRange': '$1k-10k / g'}}]}, {'smiles': 'CC1CCC(=CC(=O)O)C1', 'isBuildingBlock': True, 'catalogEntries': [{'catalogName': 'enamine_made', 'catalogId': 'BBV-38482583', 'smiles': 'CC1CCC(=CC(=O)O)C1', 'purchaseInfo': {'isBuildingBlock': True, 'isScreening': False, 'bbLeadTimeWeeks': 6.0, 'bbPriceRange': '$1k-10k / g'}}, {'catalogName': 'emolecules', 'catalogId': '40338440', 'smiles': 'CC1CCC(=CC(=O)O)C1', 'purchaseInfo': {'isBuildingBlock': True, 'isScreening': False, 'bbLeadTimeWeeks': 12.0, 'bbPriceRange': '$500-1k / g'}}, {'catalogName': 'mcule', 'catalogId': 'MCULE-7259653087', 'smiles': 'CC1CCC(=CC(=O)O)C1', 'purchaseInfo': {'isBuildingBlock': False, 'isScreening': True, 'scrLeadTimeWeeks': 4.0, 'scrPriceRange': '< $100 / mg'}}, {'catalogName': 'enamine_bb', 'catalogId': 'EN300-104030', 'smiles': 'CC1CCC(=CC(=O)O)C1', 'purchaseInfo': {'isBuildingBlock': True, 'isScreening': False, 'bbLeadTimeWeeks': 1.0, 'bbPriceRange': '< $100 / g'}}]}, {'smiles': 'C1CCNCC1', 'isBuildingBlock': True, 'catalogEntries': [{'catalogName': 'generic', 'catalogId': '', 'smiles': 'C1CCNCC1', 'purchaseInfo': {'isBuildingBlock': True, 'isScreening': False, 'bbLeadTimeWeeks': 2.0, 'bbPriceRange': '< $100 / g'}}, {'catalogName': 'mcule', 'catalogId': 'MCULE-4094049864', 'smiles': 'C1CCNCC1', 'purchaseInfo': {'isBuildingBlock': True, 'isScreening': False, 'bbLeadTimeWeeks': 2.0, 'bbPriceRange': '$100-500 / g'}}, {'catalogName': 'sigma', 'catalogId': '28761060', 'smiles': 'C1CCNCC1', 'purchaseInfo': {'isBuildingBlock': True, 'isScreening': False, 'bbLeadTimeWeeks': 1.0, 'bbPriceRange': '< $100 / g'}}, {'catalogName': 'emolecules', 'catalogId': '531020', 'smiles': 'C1CCNCC1', 'purchaseInfo': {'isBuildingBlock': True, 'isScreening': False, 'bbLeadTimeWeeks': 1.0, 'bbPriceRange': '< $100 / g'}}]}], 'reactions': [{'name': 'Reductive amination', 'reactantSmiles': ['CC1CCC(=CC(=O)NCC=O)C1', 'C1CCNCC1'], 'productSmiles': 'CC1CCC(=CC(=O)NCCN2CCCCC2)C1'}, {'name': 'Amidation', 'reactantSmiles': ['NCC=O', 'CC1CCC(=CC(=O)O)C1'], 'productSmiles': 'CC1CCC(=CC(=O)NCC=O)C1'}]}]}\r\n",
      "(1,)\r\n",
      "saving cache /var/folders/sg/gb03t0zx5sz8vw2lxlghz1gr0000gn/T/tmp94gy6d18/cache_postera_retrosynthesisscaffold_restrict_diamond-mcule_ultimate-enamine_real-wuxi_bb_screening-sigma-generic-molport-emolecules-mcule-wuxi_galaxi-enamine_bb-enamine_made.sqlite /Users/kate_fieseler/PycharmProjects/postera/cache/cache_postera_retrosynthesisscaffold_restrict_diamond-mcule_ultimate-enamine_real-wuxi_bb_screening-sigma-generic-molport-emolecules-mcule-wuxi_galaxi-enamine_bb-enamine_made.sqlite\r\n"
     ]
    }
   ],
   "source": [
    "# Input into Manifold\n",
    "os.environ[\"MANIFOLD_API_KEY\"] = \"v1:mAOYT8fFItGktDWNvo35vw\"\n",
    "!python ../postera_retrosynthesis.py fragnet_1_compound.csv 0"
   ],
   "metadata": {
    "collapsed": false,
    "ExecuteTime": {
     "end_time": "2023-07-12T09:55:12.625552Z",
     "start_time": "2023-07-12T09:55:07.901417Z"
    }
   }
  },
  {
   "cell_type": "code",
   "execution_count": 18,
   "outputs": [],
   "source": [
    "# For this compound, how many routes did we get?\n",
    "!python ../CAR_recipe/cache_output.py"
   ],
   "metadata": {
    "collapsed": false,
    "ExecuteTime": {
     "end_time": "2023-07-12T10:05:02.004326Z",
     "start_time": "2023-07-12T10:05:01.542224Z"
    }
   }
  },
  {
   "cell_type": "code",
   "execution_count": 98,
   "outputs": [
    {
     "data": {
      "text/plain": "                         SMILES  CAR_route  num_steps  \\\n0  CC1CCC(=CC(=O)NCCN2CCCCC2)C1      False          0   \n1  CC1CCC(=CC(=O)NCCN2CCCCC2)C1      False          1   \n2  CC1CCC(=CC(=O)NCCN2CCCCC2)C1      False          2   \n\n                rxn_order_first_to_last  \\\n0                                    []   \n1                         ['Amidation']   \n2  ['Reductive amination', 'Amidation']   \n\n                                           reactants  \\\n0                                                 []   \n1            [('NCCN1CCCCC1', 'CC1CCC(=CC(=O)O)C1')]   \n2  [('CC1CCC(=CC(=O)NCC=O)C1', 'C1CCNCC1'), ('NCC...   \n\n                                      BuildingBlocks  \\\n0                   ['CC1CCC(=CC(=O)NCCN2CCCCC2)C1']   \n1        [None, 'NCCN1CCCCC1', 'CC1CCC(=CC(=O)O)C1']   \n2  [None, None, 'NCC=O', 'CC1CCC(=CC(=O)O)C1', 'C...   \n\n                       catalogName_for_BuildingBlock  \n0                                   ['enamine_real']  \n1  ['molport', 'enamine_bb', 'enamine_real', 'gen...  \n2  ['enamine_made', 'enamine_made', 'emolecules',...  ",
      "text/html": "<div>\n<style scoped>\n    .dataframe tbody tr th:only-of-type {\n        vertical-align: middle;\n    }\n\n    .dataframe tbody tr th {\n        vertical-align: top;\n    }\n\n    .dataframe thead th {\n        text-align: right;\n    }\n</style>\n<table border=\"1\" class=\"dataframe\">\n  <thead>\n    <tr style=\"text-align: right;\">\n      <th></th>\n      <th>SMILES</th>\n      <th>CAR_route</th>\n      <th>num_steps</th>\n      <th>rxn_order_first_to_last</th>\n      <th>reactants</th>\n      <th>BuildingBlocks</th>\n      <th>catalogName_for_BuildingBlock</th>\n    </tr>\n  </thead>\n  <tbody>\n    <tr>\n      <th>0</th>\n      <td>CC1CCC(=CC(=O)NCCN2CCCCC2)C1</td>\n      <td>False</td>\n      <td>0</td>\n      <td>[]</td>\n      <td>[]</td>\n      <td>['CC1CCC(=CC(=O)NCCN2CCCCC2)C1']</td>\n      <td>['enamine_real']</td>\n    </tr>\n    <tr>\n      <th>1</th>\n      <td>CC1CCC(=CC(=O)NCCN2CCCCC2)C1</td>\n      <td>False</td>\n      <td>1</td>\n      <td>['Amidation']</td>\n      <td>[('NCCN1CCCCC1', 'CC1CCC(=CC(=O)O)C1')]</td>\n      <td>[None, 'NCCN1CCCCC1', 'CC1CCC(=CC(=O)O)C1']</td>\n      <td>['molport', 'enamine_bb', 'enamine_real', 'gen...</td>\n    </tr>\n    <tr>\n      <th>2</th>\n      <td>CC1CCC(=CC(=O)NCCN2CCCCC2)C1</td>\n      <td>False</td>\n      <td>2</td>\n      <td>['Reductive amination', 'Amidation']</td>\n      <td>[('CC1CCC(=CC(=O)NCC=O)C1', 'C1CCNCC1'), ('NCC...</td>\n      <td>[None, None, 'NCC=O', 'CC1CCC(=CC(=O)O)C1', 'C...</td>\n      <td>['enamine_made', 'enamine_made', 'emolecules',...</td>\n    </tr>\n  </tbody>\n</table>\n</div>"
     },
     "execution_count": 98,
     "metadata": {},
     "output_type": "execute_result"
    }
   ],
   "source": [
    "df = pd.read_csv('Libinvent_manifold_labelled.csv', index_col=0)\n",
    "df"
   ],
   "metadata": {
    "collapsed": false,
    "ExecuteTime": {
     "end_time": "2023-07-13T05:40:11.737236Z",
     "start_time": "2023-07-13T05:40:11.723924Z"
    }
   }
  },
  {
   "cell_type": "code",
   "execution_count": 99,
   "outputs": [
    {
     "name": "stdout",
     "output_type": "stream",
     "text": [
      "NCCN1CCCCC1\n",
      "CC1CCC(=CC(=O)O)C1\n",
      "CC1CCC(=CC(=O)NCC=O)C1\n",
      "C1CCNCC1\n",
      "NCC=O\n",
      "CC1CCC(=CC(=O)O)C1\n"
     ]
    },
    {
     "data": {
      "text/plain": "{0: [],\n 1: [<rdkit.Chem.rdchem.Mol at 0x29071e0b0>,\n  <rdkit.Chem.rdchem.Mol at 0x29071e200>],\n 2: [<rdkit.Chem.rdchem.Mol at 0x2907f2510>,\n  <rdkit.Chem.rdchem.Mol at 0x2907f2b30>,\n  <rdkit.Chem.rdchem.Mol at 0x2907f2ba0>,\n  <rdkit.Chem.rdchem.Mol at 0x2907f2eb0>]}"
     },
     "execution_count": 99,
     "metadata": {},
     "output_type": "execute_result"
    }
   ],
   "source": [
    "def get_reactants_from_tuple(reactants_tuple):\n",
    "    reactants = []\n",
    "    for reactant in reactants_tuple:\n",
    "        reactants.append(reactant)\n",
    "    return reactants\n",
    "\n",
    "rxn_reactants = {}\n",
    "i = 0\n",
    "for row in df['reactants']:\n",
    "    \"\"\"\n",
    "    Storing reactants in reactants column as mol objects in dictionary with key as rxn_name.\n",
    "    \"\"\"\n",
    "    mols = []\n",
    "    string = ast.literal_eval(row)\n",
    "    if len(string) == 1: # 1 tuple\n",
    "        reactants = get_reactants_from_tuple(string[0])\n",
    "        for reactant in reactants:\n",
    "            print(reactant)\n",
    "            mols.append(Chem.MolFromSmiles(reactant))\n",
    "    else:\n",
    "        for reactant_tuples in string:\n",
    "            reactants = get_reactants_from_tuple(reactant_tuples)\n",
    "            for reactant in reactants:\n",
    "                print(reactant)\n",
    "                mols.append(Chem.MolFromSmiles(reactant))\n",
    "    rxn_reactants[i] = mols\n",
    "    i += 1\n",
    "rxn_reactants"
   ],
   "metadata": {
    "collapsed": false,
    "ExecuteTime": {
     "end_time": "2023-07-13T05:40:12.226705Z",
     "start_time": "2023-07-13T05:40:12.223767Z"
    }
   }
  },
  {
   "cell_type": "code",
   "execution_count": 100,
   "outputs": [
    {
     "data": {
      "text/plain": "MolGridWidget()",
      "application/vnd.jupyter.widget-view+json": {
       "version_major": 2,
       "version_minor": 0,
       "model_id": "2a08b9a91435457481a34648bda99ae2"
      }
     },
     "metadata": {},
     "output_type": "display_data"
    },
    {
     "ename": "TemplateNotFound",
     "evalue": "pages.html",
     "output_type": "error",
     "traceback": [
      "\u001B[0;31m---------------------------------------------------------------------------\u001B[0m",
      "\u001B[0;31mTemplateNotFound\u001B[0m                          Traceback (most recent call last)",
      "Cell \u001B[0;32mIn[100], line 2\u001B[0m\n\u001B[1;32m      1\u001B[0m \u001B[38;5;66;03m# Draw reactants of first rxn, amidation\u001B[39;00m\n\u001B[0;32m----> 2\u001B[0m \u001B[43mmols2grid\u001B[49m\u001B[38;5;241;43m.\u001B[39;49m\u001B[43mdisplay\u001B[49m\u001B[43m(\u001B[49m\u001B[43mrxn_reactants\u001B[49m\u001B[43m[\u001B[49m\u001B[38;5;241;43m1\u001B[39;49m\u001B[43m]\u001B[49m\u001B[43m,\u001B[49m\u001B[43m \u001B[49m\u001B[43mmolsPerRow\u001B[49m\u001B[38;5;241;43m=\u001B[39;49m\u001B[38;5;241;43m4\u001B[39;49m\u001B[43m,\u001B[49m\u001B[43m \u001B[49m\u001B[43msubImgSize\u001B[49m\u001B[38;5;241;43m=\u001B[39;49m\u001B[43m(\u001B[49m\u001B[38;5;241;43m200\u001B[39;49m\u001B[43m,\u001B[49m\u001B[43m \u001B[49m\u001B[38;5;241;43m200\u001B[39;49m\u001B[43m)\u001B[49m\u001B[43m)\u001B[49m\n",
      "File \u001B[0;32m/opt/homebrew/anaconda3/envs/bbar2/lib/python3.9/functools.py:888\u001B[0m, in \u001B[0;36msingledispatch.<locals>.wrapper\u001B[0;34m(*args, **kw)\u001B[0m\n\u001B[1;32m    884\u001B[0m \u001B[38;5;28;01mif\u001B[39;00m \u001B[38;5;129;01mnot\u001B[39;00m args:\n\u001B[1;32m    885\u001B[0m     \u001B[38;5;28;01mraise\u001B[39;00m \u001B[38;5;167;01mTypeError\u001B[39;00m(\u001B[38;5;124mf\u001B[39m\u001B[38;5;124m'\u001B[39m\u001B[38;5;132;01m{\u001B[39;00mfuncname\u001B[38;5;132;01m}\u001B[39;00m\u001B[38;5;124m requires at least \u001B[39m\u001B[38;5;124m'\u001B[39m\n\u001B[1;32m    886\u001B[0m                     \u001B[38;5;124m'\u001B[39m\u001B[38;5;124m1 positional argument\u001B[39m\u001B[38;5;124m'\u001B[39m)\n\u001B[0;32m--> 888\u001B[0m \u001B[38;5;28;01mreturn\u001B[39;00m \u001B[43mdispatch\u001B[49m\u001B[43m(\u001B[49m\u001B[43margs\u001B[49m\u001B[43m[\u001B[49m\u001B[38;5;241;43m0\u001B[39;49m\u001B[43m]\u001B[49m\u001B[38;5;241;43m.\u001B[39;49m\u001B[38;5;18;43m__class__\u001B[39;49m\u001B[43m)\u001B[49m\u001B[43m(\u001B[49m\u001B[38;5;241;43m*\u001B[39;49m\u001B[43margs\u001B[49m\u001B[43m,\u001B[49m\u001B[43m \u001B[49m\u001B[38;5;241;43m*\u001B[39;49m\u001B[38;5;241;43m*\u001B[39;49m\u001B[43mkw\u001B[49m\u001B[43m)\u001B[49m\n",
      "File \u001B[0;32m/opt/homebrew/anaconda3/envs/bbar2/lib/python3.9/site-packages/mols2grid/dispatch.py:217\u001B[0m, in \u001B[0;36m_\u001B[0;34m(mols, **kwargs)\u001B[0m\n\u001B[1;32m    212\u001B[0m \u001B[38;5;129m@display\u001B[39m\u001B[38;5;241m.\u001B[39mregister(Series)\n\u001B[1;32m    213\u001B[0m \u001B[38;5;129m@display\u001B[39m\u001B[38;5;241m.\u001B[39mregister(\u001B[38;5;28mlist\u001B[39m)\n\u001B[1;32m    214\u001B[0m \u001B[38;5;129m@display\u001B[39m\u001B[38;5;241m.\u001B[39mregister(\u001B[38;5;28mtuple\u001B[39m)\n\u001B[1;32m    215\u001B[0m \u001B[38;5;28;01mdef\u001B[39;00m \u001B[38;5;21m_\u001B[39m(mols, \u001B[38;5;241m*\u001B[39m\u001B[38;5;241m*\u001B[39mkwargs):\n\u001B[1;32m    216\u001B[0m     template, kwargs, render_kwargs \u001B[38;5;241m=\u001B[39m _prepare_kwargs(kwargs, \u001B[38;5;124m\"\u001B[39m\u001B[38;5;124mdisplay\u001B[39m\u001B[38;5;124m\"\u001B[39m)\n\u001B[0;32m--> 217\u001B[0m     \u001B[38;5;28;01mreturn\u001B[39;00m \u001B[43mMolGrid\u001B[49m\u001B[38;5;241;43m.\u001B[39;49m\u001B[43mfrom_mols\u001B[49m\u001B[43m(\u001B[49m\u001B[43mmols\u001B[49m\u001B[43m,\u001B[49m\u001B[43m \u001B[49m\u001B[38;5;241;43m*\u001B[39;49m\u001B[38;5;241;43m*\u001B[39;49m\u001B[43mkwargs\u001B[49m\u001B[43m)\u001B[49m\u001B[38;5;241;43m.\u001B[39;49m\u001B[43mdisplay\u001B[49m\u001B[43m(\u001B[49m\u001B[43mtemplate\u001B[49m\u001B[38;5;241;43m=\u001B[39;49m\u001B[43mtemplate\u001B[49m\u001B[43m,\u001B[49m\u001B[43m \u001B[49m\u001B[38;5;241;43m*\u001B[39;49m\u001B[38;5;241;43m*\u001B[39;49m\u001B[43mrender_kwargs\u001B[49m\u001B[43m)\u001B[49m\n",
      "File \u001B[0;32m/opt/homebrew/anaconda3/envs/bbar2/lib/python3.9/site-packages/mols2grid/utils.py:22\u001B[0m, in \u001B[0;36mrequires.<locals>.inner.<locals>.wrapper\u001B[0;34m(*args, **kwargs)\u001B[0m\n\u001B[1;32m     19\u001B[0m \u001B[38;5;129m@wraps\u001B[39m(func)\n\u001B[1;32m     20\u001B[0m \u001B[38;5;28;01mdef\u001B[39;00m \u001B[38;5;21mwrapper\u001B[39m(\u001B[38;5;241m*\u001B[39margs, \u001B[38;5;241m*\u001B[39m\u001B[38;5;241m*\u001B[39mkwargs):\n\u001B[1;32m     21\u001B[0m     \u001B[38;5;28;01mif\u001B[39;00m find_spec(module):\n\u001B[0;32m---> 22\u001B[0m         \u001B[38;5;28;01mreturn\u001B[39;00m \u001B[43mfunc\u001B[49m\u001B[43m(\u001B[49m\u001B[38;5;241;43m*\u001B[39;49m\u001B[43margs\u001B[49m\u001B[43m,\u001B[49m\u001B[43m \u001B[49m\u001B[38;5;241;43m*\u001B[39;49m\u001B[38;5;241;43m*\u001B[39;49m\u001B[43mkwargs\u001B[49m\u001B[43m)\u001B[49m\n\u001B[1;32m     23\u001B[0m     \u001B[38;5;28;01mraise\u001B[39;00m \u001B[38;5;167;01mModuleNotFoundError\u001B[39;00m(\n\u001B[1;32m     24\u001B[0m         \u001B[38;5;124mf\u001B[39m\u001B[38;5;124m\"\u001B[39m\u001B[38;5;124mThe module \u001B[39m\u001B[38;5;132;01m{\u001B[39;00mmodule\u001B[38;5;132;01m!r}\u001B[39;00m\u001B[38;5;124m is required to use \u001B[39m\u001B[38;5;132;01m{\u001B[39;00mfunc\u001B[38;5;241m.\u001B[39m\u001B[38;5;18m__name__\u001B[39m\u001B[38;5;132;01m!r}\u001B[39;00m\u001B[38;5;124m \u001B[39m\u001B[38;5;124m\"\u001B[39m\n\u001B[1;32m     25\u001B[0m         \u001B[38;5;124m\"\u001B[39m\u001B[38;5;124mbut it is not installed!\u001B[39m\u001B[38;5;124m\"\u001B[39m\n\u001B[1;32m     26\u001B[0m     )\n",
      "File \u001B[0;32m/opt/homebrew/anaconda3/envs/bbar2/lib/python3.9/site-packages/mols2grid/molgrid.py:942\u001B[0m, in \u001B[0;36mMolGrid.display\u001B[0;34m(self, width, height, iframe_allow, iframe_sandbox, **kwargs)\u001B[0m\n\u001B[1;32m    927\u001B[0m \u001B[38;5;129m@requires\u001B[39m(\u001B[38;5;124m\"\u001B[39m\u001B[38;5;124mIPython.display\u001B[39m\u001B[38;5;124m\"\u001B[39m)\n\u001B[1;32m    928\u001B[0m \u001B[38;5;28;01mdef\u001B[39;00m \u001B[38;5;21mdisplay\u001B[39m(\n\u001B[1;32m    929\u001B[0m     \u001B[38;5;28mself\u001B[39m,\n\u001B[0;32m   (...)\u001B[0m\n\u001B[1;32m    934\u001B[0m     \u001B[38;5;241m*\u001B[39m\u001B[38;5;241m*\u001B[39mkwargs,\n\u001B[1;32m    935\u001B[0m ):\n\u001B[1;32m    936\u001B[0m \u001B[38;5;250m    \u001B[39m\u001B[38;5;124;03m\"\"\"Render and display the grid in a Jupyter notebook\u001B[39;00m\n\u001B[1;32m    937\u001B[0m \n\u001B[1;32m    938\u001B[0m \u001B[38;5;124;03m    Returns\u001B[39;00m\n\u001B[1;32m    939\u001B[0m \u001B[38;5;124;03m    -------\u001B[39;00m\n\u001B[1;32m    940\u001B[0m \u001B[38;5;124;03m    view : IPython.core.display.HTML\u001B[39;00m\n\u001B[1;32m    941\u001B[0m \u001B[38;5;124;03m    \"\"\"\u001B[39;00m\n\u001B[0;32m--> 942\u001B[0m     doc \u001B[38;5;241m=\u001B[39m \u001B[38;5;28;43mself\u001B[39;49m\u001B[38;5;241;43m.\u001B[39;49m\u001B[43mrender\u001B[49m\u001B[43m(\u001B[49m\u001B[38;5;241;43m*\u001B[39;49m\u001B[38;5;241;43m*\u001B[39;49m\u001B[43mkwargs\u001B[49m\u001B[43m)\u001B[49m\n\u001B[1;32m    943\u001B[0m     iframe \u001B[38;5;241m=\u001B[39m env\u001B[38;5;241m.\u001B[39mget_template(\u001B[38;5;124m\"\u001B[39m\u001B[38;5;124mhtml/iframe.html\u001B[39m\u001B[38;5;124m\"\u001B[39m)\u001B[38;5;241m.\u001B[39mrender(\n\u001B[1;32m    944\u001B[0m         width\u001B[38;5;241m=\u001B[39mwidth,\n\u001B[1;32m    945\u001B[0m         height\u001B[38;5;241m=\u001B[39mheight,\n\u001B[0;32m   (...)\u001B[0m\n\u001B[1;32m    948\u001B[0m         doc\u001B[38;5;241m=\u001B[39mescape(doc),\n\u001B[1;32m    949\u001B[0m     )\n\u001B[1;32m    950\u001B[0m     \u001B[38;5;28;01mreturn\u001B[39;00m HTML(iframe)\n",
      "File \u001B[0;32m/opt/homebrew/anaconda3/envs/bbar2/lib/python3.9/site-packages/mols2grid/molgrid.py:312\u001B[0m, in \u001B[0;36mMolGrid.render\u001B[0;34m(self, template, **kwargs)\u001B[0m\n\u001B[1;32m    292\u001B[0m \u001B[38;5;250m\u001B[39m\u001B[38;5;124;03m\"\"\"Returns the HTML document corresponding to the \"pages\" or \"table\"\u001B[39;00m\n\u001B[1;32m    293\u001B[0m \u001B[38;5;124;03mtemplate. See :meth:`to_pages` and :meth:`to_table` for the full list\u001B[39;00m\n\u001B[1;32m    294\u001B[0m \u001B[38;5;124;03mof arguments\u001B[39;00m\n\u001B[0;32m   (...)\u001B[0m\n\u001B[1;32m    309\u001B[0m \u001B[38;5;124;03m        filtering them using text or substructure queries.\u001B[39;00m\n\u001B[1;32m    310\u001B[0m \u001B[38;5;124;03m\"\"\"\u001B[39;00m\n\u001B[1;32m    311\u001B[0m \u001B[38;5;28mself\u001B[39m\u001B[38;5;241m.\u001B[39mtemplate \u001B[38;5;241m=\u001B[39m template\n\u001B[0;32m--> 312\u001B[0m \u001B[38;5;28;01mreturn\u001B[39;00m \u001B[38;5;28;43mgetattr\u001B[39;49m\u001B[43m(\u001B[49m\u001B[38;5;28;43mself\u001B[39;49m\u001B[43m,\u001B[49m\u001B[43m \u001B[49m\u001B[38;5;124;43mf\u001B[39;49m\u001B[38;5;124;43m\"\u001B[39;49m\u001B[38;5;124;43mto_\u001B[39;49m\u001B[38;5;132;43;01m{\u001B[39;49;00m\u001B[38;5;28;43mself\u001B[39;49m\u001B[38;5;241;43m.\u001B[39;49m\u001B[43mtemplate\u001B[49m\u001B[38;5;132;43;01m}\u001B[39;49;00m\u001B[38;5;124;43m\"\u001B[39;49m\u001B[43m)\u001B[49m\u001B[43m(\u001B[49m\u001B[38;5;241;43m*\u001B[39;49m\u001B[38;5;241;43m*\u001B[39;49m\u001B[43mkwargs\u001B[49m\u001B[43m)\u001B[49m\n",
      "File \u001B[0;32m/opt/homebrew/anaconda3/envs/bbar2/lib/python3.9/site-packages/mols2grid/molgrid.py:644\u001B[0m, in \u001B[0;36mMolGrid.to_pages\u001B[0;34m(self, subset, tooltip, n_cols, n_rows, border, gap, fontsize, fontfamily, textalign, tooltip_fmt, tooltip_trigger, tooltip_placement, hover_color, style, selection, transform, custom_css, custom_header, callback, sort_by, substruct_highlight, single_highlight)\u001B[0m\n\u001B[1;32m    641\u001B[0m smiles \u001B[38;5;241m=\u001B[39m slugify(smiles)\n\u001B[1;32m    642\u001B[0m df \u001B[38;5;241m=\u001B[39m df[final_columns]\u001B[38;5;241m.\u001B[39mrename(columns\u001B[38;5;241m=\u001B[39mcolumn_map)\u001B[38;5;241m.\u001B[39msort_values(sort_by)\n\u001B[0;32m--> 644\u001B[0m template \u001B[38;5;241m=\u001B[39m \u001B[43menv\u001B[49m\u001B[38;5;241;43m.\u001B[39;49m\u001B[43mget_template\u001B[49m\u001B[43m(\u001B[49m\u001B[38;5;124;43m\"\u001B[39;49m\u001B[38;5;124;43mpages.html\u001B[39;49m\u001B[38;5;124;43m\"\u001B[39;49m\u001B[43m)\u001B[49m\n\u001B[1;32m    645\u001B[0m template_kwargs \u001B[38;5;241m=\u001B[39m \u001B[38;5;28mdict\u001B[39m(\n\u001B[1;32m    646\u001B[0m     padding\u001B[38;5;241m=\u001B[39m\u001B[38;5;241m18\u001B[39m,\n\u001B[1;32m    647\u001B[0m     width\u001B[38;5;241m=\u001B[39mwidth,\n\u001B[0;32m   (...)\u001B[0m\n\u001B[1;32m    690\u001B[0m     single_highlight\u001B[38;5;241m=\u001B[39msingle_highlight,\n\u001B[1;32m    691\u001B[0m )\n\u001B[1;32m    692\u001B[0m \u001B[38;5;28;01mreturn\u001B[39;00m template\u001B[38;5;241m.\u001B[39mrender(\u001B[38;5;241m*\u001B[39m\u001B[38;5;241m*\u001B[39mtemplate_kwargs)\n",
      "File \u001B[0;32m/opt/homebrew/anaconda3/envs/bbar2/lib/python3.9/site-packages/jinja2/environment.py:1010\u001B[0m, in \u001B[0;36mget_template\u001B[0;34m(self, name, parent, globals)\u001B[0m\n",
      "File \u001B[0;32m/opt/homebrew/anaconda3/envs/bbar2/lib/python3.9/site-packages/jinja2/environment.py:969\u001B[0m, in \u001B[0;36m_load_template\u001B[0;34m(self, name, globals)\u001B[0m\n",
      "File \u001B[0;32m/opt/homebrew/anaconda3/envs/bbar2/lib/python3.9/site-packages/jinja2/loaders.py:126\u001B[0m, in \u001B[0;36mload\u001B[0;34m(self, environment, name, globals)\u001B[0m\n",
      "File \u001B[0;32m/opt/homebrew/anaconda3/envs/bbar2/lib/python3.9/site-packages/jinja2/loaders.py:218\u001B[0m, in \u001B[0;36mget_source\u001B[0;34m(self, environment, template)\u001B[0m\n",
      "\u001B[0;31mTemplateNotFound\u001B[0m: pages.html"
     ]
    }
   ],
   "source": [
    "# Draw reactants of first rxn, amidation\n",
    "mols2grid.display(rxn_reactants[1], molsPerRow=4, subImgSize=(200, 200))"
   ],
   "metadata": {
    "collapsed": false,
    "ExecuteTime": {
     "end_time": "2023-07-13T05:40:13.352377Z",
     "start_time": "2023-07-13T05:40:13.277669Z"
    }
   }
  },
  {
   "cell_type": "code",
   "execution_count": 57,
   "outputs": [
    {
     "data": {
      "text/plain": "<rdkit.Chem.rdChemReactions.ChemicalReaction at 0x2903a5dd0>",
      "image/png": "[encoded data removed]"
     },
     "execution_count": 57,
     "metadata": {},
     "output_type": "execute_result"
    }
   ],
   "source": [
    "# SMARTS of amidation rxn\n",
    "amidation_smarts = \"[#6:1](=[#8:2])-[#8].[#7;H3,H2,H1:3]>>[#6:1](=[#8:2])-[#7:3]\"\n",
    "amidation = AllChem.ReactionFromSmarts(amidation_smarts)\n",
    "amidation"
   ],
   "metadata": {
    "collapsed": false,
    "ExecuteTime": {
     "end_time": "2023-07-12T12:31:22.996473Z",
     "start_time": "2023-07-12T12:31:22.993811Z"
    }
   }
  },
  {
   "cell_type": "code",
   "execution_count": 59,
   "outputs": [
    {
     "data": {
      "text/plain": "<rdkit.Chem.rdChemReactions.ChemicalReaction at 0x2903ab040>",
      "image/png": "[encoded data removed]"
     },
     "execution_count": 59,
     "metadata": {},
     "output_type": "execute_result"
    }
   ],
   "source": [
    "# SMARTS of amidation rxn turned around\n",
    "amidation_smarts_turned_around = \"[#7;H3,H2,H1:3].[#6:1](=[#8:2])-[#8]>>[#6:1](=[#8:2])-[#7:3]\"\n",
    "amidation_around = AllChem.ReactionFromSmarts(amidation_smarts)\n",
    "amidation_around"
   ],
   "metadata": {
    "collapsed": false,
    "ExecuteTime": {
     "end_time": "2023-07-12T12:32:51.747375Z",
     "start_time": "2023-07-12T12:32:51.743775Z"
    }
   }
  },
  {
   "cell_type": "code",
   "execution_count": 101,
   "outputs": [
    {
     "data": {
      "text/plain": "'[N&H2]-[C&H2]-[c,n]-[N&H0]1-[C&H2]-[C&H2]-[C&H2]-[C&H2]-[C&H2]-1'"
     },
     "execution_count": 101,
     "metadata": {},
     "output_type": "execute_result"
    }
   ],
   "source": [
    "# Try to use querimonate\n",
    "smol: Chem.Mol = create.querimonate(Chem.MolFromSmiles('NCCN1CCCCC1'), {2: '[c,n]'})\n",
    "Chem.MolToSmarts(smol)"
   ],
   "metadata": {
    "collapsed": false,
    "ExecuteTime": {
     "end_time": "2023-07-13T05:48:26.074185Z",
     "start_time": "2023-07-13T05:48:26.070515Z"
    }
   }
  },
  {
   "cell_type": "code",
   "execution_count": null,
   "outputs": [],
   "source": [],
   "metadata": {
    "collapsed": false
   }
  }
 ],
 "metadata": {
  "kernelspec": {
   "display_name": "Python 3",
   "language": "python",
   "name": "python3"
  },
  "language_info": {
   "codemirror_mode": {
    "name": "ipython",
    "version": 2
   },
   "file_extension": ".py",
   "mimetype": "text/x-python",
   "name": "python",
   "nbconvert_exporter": "python",
   "pygments_lexer": "ipython2",
   "version": "2.7.6"
  }
 },
 "nbformat": 4,
 "nbformat_minor": 0
}
